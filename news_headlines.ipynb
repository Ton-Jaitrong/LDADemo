{
 "cells": [
  {
   "cell_type": "markdown",
   "metadata": {},
   "source": [
    "# Topic Modeling and Latent Dirichlet Allocation (LDA) in Python\n",
    "\n",
    "Source: https://towardsdatascience.com/topic-modeling-and-latent-dirichlet-allocation-in-python-9bf156893c24"
   ]
  },
  {
   "cell_type": "code",
   "execution_count": 22,
   "metadata": {},
   "outputs": [
    {
     "name": "stdout",
     "output_type": "stream",
     "text": [
      "1226258\n",
      "\n",
      "\n",
      "\n",
      "                                       headline_text  index\n",
      "0  aba decides against community broadcasting lic...      0\n",
      "1     act fire witnesses must be aware of defamation      1\n",
      "2     a g calls for infrastructure protection summit      2\n",
      "3           air nz staff in aust strike for pay rise      3\n",
      "4      air nz strike to affect australian travellers      4\n"
     ]
    }
   ],
   "source": [
    "# 1. The Data\n",
    "\n",
    "import pandas as pd\n",
    "\n",
    "data = pd.read_csv('data/ABCNews/abcnews-date-text.csv', error_bad_lines=False);\n",
    "data_text = data[['headline_text']]\n",
    "\n",
    "data_text['index'] = data_text.index\n",
    "documents = data_text\n",
    "\n",
    "print(len(documents))\n",
    "print('\\n\\n')\n",
    "print(documents[:5])"
   ]
  },
  {
   "cell_type": "code",
   "execution_count": 21,
   "metadata": {},
   "outputs": [
    {
     "name": "stderr",
     "output_type": "stream",
     "text": [
      "[nltk_data] Downloading package wordnet to\n",
      "[nltk_data]     C:\\Users\\tonja\\AppData\\Roaming\\nltk_data...\n",
      "[nltk_data]   Package wordnet is already up-to-date!\n"
     ]
    },
    {
     "name": "stdout",
     "output_type": "stream",
     "text": [
      "original document: \n",
      "['ratepayers', 'group', 'wants', 'compulsory', 'local', 'govt', 'voting']\n",
      "\n",
      "\n",
      "tokenized and lemmatized document: \n",
      "['ratepay', 'group', 'want', 'compulsori', 'local', 'govt', 'vote']\n",
      "\n",
      "\n",
      "\n",
      "0               [decid, commun, broadcast, licenc]\n",
      "1                               [wit, awar, defam]\n",
      "2           [call, infrastructur, protect, summit]\n",
      "3                      [staff, aust, strike, rise]\n",
      "4             [strike, affect, australian, travel]\n",
      "5               [ambiti, olsson, win, tripl, jump]\n",
      "6           [antic, delight, record, break, barca]\n",
      "7    [aussi, qualifi, stosur, wast, memphi, match]\n",
      "8            [aust, address, secur, council, iraq]\n",
      "9                         [australia, lock, timet]\n",
      "Name: headline_text, dtype: object\n"
     ]
    }
   ],
   "source": [
    "# 2. Data Pre-processing\n",
    "\n",
    "# Loading gensim and nltk libraries\n",
    "import gensim\n",
    "from gensim.utils import simple_preprocess\n",
    "from gensim.parsing.preprocessing import STOPWORDS\n",
    "from nltk.stem import WordNetLemmatizer, SnowballStemmer\n",
    "from nltk.stem.porter import *\n",
    "import numpy as np\n",
    "np.random.seed(2018)\n",
    "import nltk\n",
    "nltk.download('wordnet')\n",
    "\n",
    "stemmer = PorterStemmer()\n",
    "\n",
    "# Write a function to perform lemmatize and stem preprocessing steps on the data set.\n",
    "def lemmatize_stemming(text):\n",
    "    return stemmer.stem(WordNetLemmatizer().lemmatize(text, pos='v'))\n",
    "\n",
    "def preprocess(text):\n",
    "    result = []\n",
    "    for token in gensim.utils.simple_preprocess(text):\n",
    "        if token not in gensim.parsing.preprocessing.STOPWORDS and len(token) > 3:\n",
    "            result.append(lemmatize_stemming(token))\n",
    "    return result\n",
    "\n",
    "# Select a document to preview after preprocessing.\n",
    "doc_sample = documents[documents['index'] == 4310].values[0][0]\n",
    "\n",
    "print('original document: ')\n",
    "words = []\n",
    "for word in doc_sample.split(' '):\n",
    "    words.append(word)\n",
    "print(words)\n",
    "\n",
    "print('\\n\\ntokenized and lemmatized document: ')\n",
    "print(preprocess(doc_sample))\n",
    "\n",
    "# Preprocess the headline text, saving the results as ‘processed_docs’\n",
    "processed_docs = documents['headline_text'].map(preprocess)\n",
    "print('\\n\\n')\n",
    "print(processed_docs[:10])"
   ]
  },
  {
   "cell_type": "code",
   "execution_count": 24,
   "metadata": {},
   "outputs": [
    {
     "name": "stdout",
     "output_type": "stream",
     "text": [
      "0 broadcast\n",
      "1 commun\n",
      "2 decid\n",
      "3 licenc\n",
      "4 awar\n",
      "5 defam\n",
      "6 wit\n",
      "7 call\n",
      "8 infrastructur\n",
      "9 protect\n",
      "10 summit\n",
      "\n",
      "\n",
      "\n",
      "[(162, 1), (240, 1), (292, 1), (589, 1), (839, 1), (3578, 1), (3579, 1)]\n",
      "\n",
      "\n",
      "\n",
      "Word 162 (\"govt\") appears 1 time.\n",
      "Word 240 (\"group\") appears 1 time.\n",
      "Word 292 (\"vote\") appears 1 time.\n",
      "Word 589 (\"local\") appears 1 time.\n",
      "Word 839 (\"want\") appears 1 time.\n",
      "Word 3578 (\"compulsori\") appears 1 time.\n",
      "Word 3579 (\"ratepay\") appears 1 time.\n",
      "\n",
      "\n",
      "\n",
      "[(0, 0.5852942020878993),\n",
      " (1, 0.38405854933668493),\n",
      " (2, 0.5017732999224691),\n",
      " (3, 0.5080878695349914)]\n"
     ]
    }
   ],
   "source": [
    "# 3. Bag of Words on the Data set\n",
    "\n",
    "dictionary = gensim.corpora.Dictionary(processed_docs)\n",
    "\n",
    "count = 0\n",
    "for k, v in dictionary.iteritems():\n",
    "    print(k, v)\n",
    "    count += 1\n",
    "    if count > 10:\n",
    "        break\n",
    "        \n",
    "# Filter out tokens that appear in\n",
    "#   - less than 15 documents (absolute number) or\n",
    "#   - more than 0.5 documents (fraction of total corpus size, not absolute number).\n",
    "#   - after the above two steps, keep only the first 100000 most frequent tokens.\n",
    "\n",
    "dictionary.filter_extremes(no_below=15, no_above=0.5, keep_n=100000)\n",
    "\n",
    "# Gensim doc2bow\n",
    "bow_corpus = [dictionary.doc2bow(doc) for doc in processed_docs]\n",
    "print('\\n\\n')\n",
    "print(bow_corpus[4310])\n",
    "\n",
    "# Preview Bag Of Words for our sample preprocessed document.\n",
    "bow_doc_4310 = bow_corpus[4310]\n",
    "\n",
    "print('\\n\\n')\n",
    "for i in range(len(bow_doc_4310)):\n",
    "    print(\"Word {} (\\\"{}\\\") appears {} time.\".format(bow_doc_4310[i][0], \n",
    "                                               dictionary[bow_doc_4310[i][0]], \n",
    "\n",
    "bow_doc_4310[i][1]))\n",
    "\n",
    "# TF-IDF\n",
    "from gensim import corpora, models\n",
    "\n",
    "tfidf = models.TfidfModel(bow_corpus)\n",
    "corpus_tfidf = tfidf[bow_corpus]\n",
    "\n",
    "from pprint import pprint\n",
    "\n",
    "print('\\n\\n')\n",
    "for doc in corpus_tfidf:\n",
    "    pprint(doc)\n",
    "    break"
   ]
  },
  {
   "cell_type": "code",
   "execution_count": 25,
   "metadata": {},
   "outputs": [
    {
     "name": "stdout",
     "output_type": "stream",
     "text": [
      "Topic: 0 \n",
      "Words: 0.028*\"donald\" + 0.025*\"kill\" + 0.023*\"market\" + 0.022*\"attack\" + 0.019*\"border\" + 0.014*\"morrison\" + 0.014*\"dead\" + 0.013*\"interview\" + 0.012*\"bank\" + 0.010*\"find\"\n",
      "Topic: 1 \n",
      "Words: 0.033*\"sydney\" + 0.031*\"polic\" + 0.029*\"year\" + 0.026*\"news\" + 0.022*\"record\" + 0.021*\"hous\" + 0.017*\"rise\" + 0.017*\"investig\" + 0.016*\"death\" + 0.013*\"shoot\"\n",
      "Topic: 2 \n",
      "Words: 0.019*\"miss\" + 0.018*\"work\" + 0.016*\"speak\" + 0.015*\"countri\" + 0.014*\"victim\" + 0.014*\"releas\" + 0.014*\"australia\" + 0.013*\"china\" + 0.013*\"season\" + 0.012*\"search\"\n",
      "Topic: 3 \n",
      "Words: 0.020*\"women\" + 0.018*\"feder\" + 0.017*\"peopl\" + 0.016*\"health\" + 0.016*\"farmer\" + 0.014*\"win\" + 0.014*\"labor\" + 0.013*\"take\" + 0.012*\"servic\" + 0.011*\"beat\"\n",
      "Topic: 4 \n",
      "Words: 0.024*\"bushfir\" + 0.023*\"school\" + 0.021*\"canberra\" + 0.018*\"brisban\" + 0.017*\"busi\" + 0.014*\"student\" + 0.011*\"game\" + 0.010*\"hotel\" + 0.009*\"darwin\" + 0.009*\"port\"\n",
      "Topic: 5 \n",
      "Words: 0.036*\"elect\" + 0.026*\"live\" + 0.016*\"island\" + 0.014*\"china\" + 0.012*\"state\" + 0.010*\"say\" + 0.010*\"john\" + 0.009*\"emerg\" + 0.009*\"liber\" + 0.009*\"parti\"\n",
      "Topic: 6 \n",
      "Words: 0.027*\"case\" + 0.027*\"charg\" + 0.026*\"court\" + 0.022*\"murder\" + 0.021*\"polic\" + 0.018*\"woman\" + 0.017*\"face\" + 0.014*\"test\" + 0.014*\"jail\" + 0.013*\"trial\"\n",
      "Topic: 7 \n",
      "Words: 0.063*\"coronaviru\" + 0.042*\"australia\" + 0.033*\"queensland\" + 0.031*\"covid\" + 0.026*\"victoria\" + 0.017*\"south\" + 0.016*\"coast\" + 0.015*\"tasmania\" + 0.015*\"home\" + 0.013*\"final\"\n",
      "Topic: 8 \n",
      "Words: 0.047*\"australian\" + 0.042*\"trump\" + 0.012*\"fight\" + 0.012*\"royal\" + 0.011*\"scott\" + 0.011*\"say\" + 0.010*\"street\" + 0.010*\"drum\" + 0.010*\"australia\" + 0.010*\"travel\"\n",
      "Topic: 9 \n",
      "Words: 0.024*\"govern\" + 0.019*\"crash\" + 0.017*\"chang\" + 0.015*\"restrict\" + 0.014*\"hospit\" + 0.014*\"plan\" + 0.012*\"region\" + 0.012*\"council\" + 0.011*\"fund\" + 0.011*\"nation\"\n"
     ]
    }
   ],
   "source": [
    "# 4. Running LDA using Bag of Words\n",
    "\n",
    "lda_model = gensim.models.LdaMulticore(bow_corpus, num_topics=10, id2word=dictionary, passes=2, workers=2)\n",
    "\n",
    "for idx, topic in lda_model.print_topics(-1):\n",
    "    print('Topic: {} \\nWords: {}'.format(idx, topic))"
   ]
  },
  {
   "cell_type": "code",
   "execution_count": 26,
   "metadata": {},
   "outputs": [
    {
     "name": "stdout",
     "output_type": "stream",
     "text": [
      "Topic: 0 Word: 0.011*\"final\" + 0.009*\"world\" + 0.009*\"australia\" + 0.008*\"friday\" + 0.008*\"thursday\" + 0.007*\"leagu\" + 0.007*\"david\" + 0.006*\"open\" + 0.006*\"win\" + 0.006*\"cricket\"\n",
      "Topic: 1 Word: 0.010*\"monday\" + 0.007*\"coronaviru\" + 0.007*\"alan\" + 0.006*\"univers\" + 0.006*\"zealand\" + 0.006*\"airport\" + 0.006*\"jam\" + 0.006*\"quarantin\" + 0.006*\"april\" + 0.006*\"rais\"\n",
      "Topic: 2 Word: 0.025*\"news\" + 0.016*\"rural\" + 0.009*\"nation\" + 0.009*\"violenc\" + 0.009*\"climat\" + 0.008*\"turnbul\" + 0.007*\"vaccin\" + 0.007*\"march\" + 0.007*\"social\" + 0.007*\"domest\"\n",
      "Topic: 3 Word: 0.021*\"coronaviru\" + 0.015*\"covid\" + 0.011*\"queensland\" + 0.011*\"market\" + 0.010*\"live\" + 0.008*\"australia\" + 0.007*\"morrison\" + 0.007*\"victoria\" + 0.007*\"australian\" + 0.007*\"farmer\"\n",
      "Topic: 4 Word: 0.032*\"trump\" + 0.019*\"donald\" + 0.013*\"interview\" + 0.010*\"scott\" + 0.009*\"royal\" + 0.009*\"john\" + 0.008*\"christma\" + 0.008*\"michael\" + 0.007*\"lockdown\" + 0.007*\"coronaviru\"\n",
      "Topic: 5 Word: 0.011*\"govern\" + 0.009*\"health\" + 0.007*\"care\" + 0.006*\"fund\" + 0.006*\"feder\" + 0.006*\"updat\" + 0.006*\"sport\" + 0.006*\"coronaviru\" + 0.006*\"elect\" + 0.006*\"mental\"\n",
      "Topic: 6 Word: 0.016*\"polic\" + 0.015*\"charg\" + 0.014*\"murder\" + 0.013*\"crash\" + 0.013*\"kill\" + 0.012*\"woman\" + 0.009*\"shoot\" + 0.009*\"court\" + 0.009*\"arrest\" + 0.008*\"jail\"\n",
      "Topic: 7 Word: 0.014*\"drum\" + 0.009*\"miss\" + 0.009*\"search\" + 0.009*\"tuesday\" + 0.008*\"wednesday\" + 0.008*\"coast\" + 0.007*\"north\" + 0.007*\"korea\" + 0.006*\"grandstand\" + 0.006*\"brief\"\n",
      "Topic: 8 Word: 0.010*\"andrew\" + 0.007*\"explain\" + 0.007*\"daniel\" + 0.006*\"august\" + 0.006*\"georg\" + 0.006*\"territori\" + 0.005*\"say\" + 0.005*\"toni\" + 0.005*\"ash\" + 0.005*\"northern\"\n",
      "Topic: 9 Word: 0.019*\"countri\" + 0.013*\"hour\" + 0.008*\"juli\" + 0.007*\"bushfir\" + 0.007*\"coal\" + 0.006*\"june\" + 0.006*\"busi\" + 0.006*\"energi\" + 0.006*\"octob\" + 0.006*\"quiz\"\n"
     ]
    }
   ],
   "source": [
    "# 5. Running LDA using TF-IDF\n",
    "\n",
    "lda_model_tfidf = gensim.models.LdaMulticore(corpus_tfidf, num_topics=10, id2word=dictionary, passes=2, workers=4)\n",
    "\n",
    "for idx, topic in lda_model_tfidf.print_topics(-1):\n",
    "    print('Topic: {} Word: {}'.format(idx, topic))"
   ]
  },
  {
   "cell_type": "code",
   "execution_count": 28,
   "metadata": {},
   "outputs": [
    {
     "name": "stdout",
     "output_type": "stream",
     "text": [
      "\n",
      "Score: 0.8874749541282654\t \n",
      "Topic: 0.024*\"govern\" + 0.019*\"crash\" + 0.017*\"chang\" + 0.015*\"restrict\" + 0.014*\"hospit\" + 0.014*\"plan\" + 0.012*\"region\" + 0.012*\"council\" + 0.011*\"fund\" + 0.011*\"nation\"\n",
      "\n",
      "Score: 0.012506323866546154\t \n",
      "Topic: 0.036*\"elect\" + 0.026*\"live\" + 0.016*\"island\" + 0.014*\"china\" + 0.012*\"state\" + 0.010*\"say\" + 0.010*\"john\" + 0.009*\"emerg\" + 0.009*\"liber\" + 0.009*\"parti\"\n",
      "\n",
      "Score: 0.01250259205698967\t \n",
      "Topic: 0.047*\"australian\" + 0.042*\"trump\" + 0.012*\"fight\" + 0.012*\"royal\" + 0.011*\"scott\" + 0.011*\"say\" + 0.010*\"street\" + 0.010*\"drum\" + 0.010*\"australia\" + 0.010*\"travel\"\n",
      "\n",
      "Score: 0.012502418830990791\t \n",
      "Topic: 0.024*\"bushfir\" + 0.023*\"school\" + 0.021*\"canberra\" + 0.018*\"brisban\" + 0.017*\"busi\" + 0.014*\"student\" + 0.011*\"game\" + 0.010*\"hotel\" + 0.009*\"darwin\" + 0.009*\"port\"\n",
      "\n",
      "Score: 0.012502401135861874\t \n",
      "Topic: 0.027*\"case\" + 0.027*\"charg\" + 0.026*\"court\" + 0.022*\"murder\" + 0.021*\"polic\" + 0.018*\"woman\" + 0.017*\"face\" + 0.014*\"test\" + 0.014*\"jail\" + 0.013*\"trial\"\n",
      "\n",
      "Score: 0.012502367608249187\t \n",
      "Topic: 0.020*\"women\" + 0.018*\"feder\" + 0.017*\"peopl\" + 0.016*\"health\" + 0.016*\"farmer\" + 0.014*\"win\" + 0.014*\"labor\" + 0.013*\"take\" + 0.012*\"servic\" + 0.011*\"beat\"\n",
      "\n",
      "Score: 0.012502328492701054\t \n",
      "Topic: 0.019*\"miss\" + 0.018*\"work\" + 0.016*\"speak\" + 0.015*\"countri\" + 0.014*\"victim\" + 0.014*\"releas\" + 0.014*\"australia\" + 0.013*\"china\" + 0.013*\"season\" + 0.012*\"search\"\n",
      "\n",
      "Score: 0.012502242811024189\t \n",
      "Topic: 0.033*\"sydney\" + 0.031*\"polic\" + 0.029*\"year\" + 0.026*\"news\" + 0.022*\"record\" + 0.021*\"hous\" + 0.017*\"rise\" + 0.017*\"investig\" + 0.016*\"death\" + 0.013*\"shoot\"\n",
      "\n",
      "Score: 0.012502162717282772\t \n",
      "Topic: 0.028*\"donald\" + 0.025*\"kill\" + 0.023*\"market\" + 0.022*\"attack\" + 0.019*\"border\" + 0.014*\"morrison\" + 0.014*\"dead\" + 0.013*\"interview\" + 0.012*\"bank\" + 0.010*\"find\"\n",
      "\n",
      "Score: 0.012502162717282772\t \n",
      "Topic: 0.063*\"coronaviru\" + 0.042*\"australia\" + 0.033*\"queensland\" + 0.031*\"covid\" + 0.026*\"victoria\" + 0.017*\"south\" + 0.016*\"coast\" + 0.015*\"tasmania\" + 0.015*\"home\" + 0.013*\"final\"\n"
     ]
    }
   ],
   "source": [
    "# 6. Performance evaluation by classifying sample document using LDA Bag of Words model\n",
    "\n",
    "processed_docs[4310]\n",
    "\n",
    "for index, score in sorted(lda_model[bow_corpus[4310]], key=lambda tup: -1*tup[1]):\n",
    "    print(\"\\nScore: {}\\t \\nTopic: {}\".format(score, lda_model.print_topic(index, 10)))"
   ]
  },
  {
   "cell_type": "code",
   "execution_count": 29,
   "metadata": {},
   "outputs": [
    {
     "name": "stdout",
     "output_type": "stream",
     "text": [
      "\n",
      "Score: 0.8874776363372803\t \n",
      "Topic: 0.011*\"govern\" + 0.009*\"health\" + 0.007*\"care\" + 0.006*\"fund\" + 0.006*\"feder\" + 0.006*\"updat\" + 0.006*\"sport\" + 0.006*\"coronaviru\" + 0.006*\"elect\" + 0.006*\"mental\"\n",
      "\n",
      "Score: 0.012503174133598804\t \n",
      "Topic: 0.010*\"andrew\" + 0.007*\"explain\" + 0.007*\"daniel\" + 0.006*\"august\" + 0.006*\"georg\" + 0.006*\"territori\" + 0.005*\"say\" + 0.005*\"toni\" + 0.005*\"ash\" + 0.005*\"northern\"\n",
      "\n",
      "Score: 0.012502851895987988\t \n",
      "Topic: 0.021*\"coronaviru\" + 0.015*\"covid\" + 0.011*\"queensland\" + 0.011*\"market\" + 0.010*\"live\" + 0.008*\"australia\" + 0.007*\"morrison\" + 0.007*\"victoria\" + 0.007*\"australian\" + 0.007*\"farmer\"\n",
      "\n",
      "Score: 0.012502751313149929\t \n",
      "Topic: 0.010*\"monday\" + 0.007*\"coronaviru\" + 0.007*\"alan\" + 0.006*\"univers\" + 0.006*\"zealand\" + 0.006*\"airport\" + 0.006*\"jam\" + 0.006*\"quarantin\" + 0.006*\"april\" + 0.006*\"rais\"\n",
      "\n",
      "Score: 0.01250250730663538\t \n",
      "Topic: 0.019*\"countri\" + 0.013*\"hour\" + 0.008*\"juli\" + 0.007*\"bushfir\" + 0.007*\"coal\" + 0.006*\"june\" + 0.006*\"busi\" + 0.006*\"energi\" + 0.006*\"octob\" + 0.006*\"quiz\"\n",
      "\n",
      "Score: 0.01250238437205553\t \n",
      "Topic: 0.032*\"trump\" + 0.019*\"donald\" + 0.013*\"interview\" + 0.010*\"scott\" + 0.009*\"royal\" + 0.009*\"john\" + 0.008*\"christma\" + 0.008*\"michael\" + 0.007*\"lockdown\" + 0.007*\"coronaviru\"\n",
      "\n",
      "Score: 0.012502340599894524\t \n",
      "Topic: 0.025*\"news\" + 0.016*\"rural\" + 0.009*\"nation\" + 0.009*\"violenc\" + 0.009*\"climat\" + 0.008*\"turnbul\" + 0.007*\"vaccin\" + 0.007*\"march\" + 0.007*\"social\" + 0.007*\"domest\"\n",
      "\n",
      "Score: 0.012502336874604225\t \n",
      "Topic: 0.011*\"final\" + 0.009*\"world\" + 0.009*\"australia\" + 0.008*\"friday\" + 0.008*\"thursday\" + 0.007*\"leagu\" + 0.007*\"david\" + 0.006*\"open\" + 0.006*\"win\" + 0.006*\"cricket\"\n",
      "\n",
      "Score: 0.012502114288508892\t \n",
      "Topic: 0.014*\"drum\" + 0.009*\"miss\" + 0.009*\"search\" + 0.009*\"tuesday\" + 0.008*\"wednesday\" + 0.008*\"coast\" + 0.007*\"north\" + 0.007*\"korea\" + 0.006*\"grandstand\" + 0.006*\"brief\"\n",
      "\n",
      "Score: 0.012501892633736134\t \n",
      "Topic: 0.016*\"polic\" + 0.015*\"charg\" + 0.014*\"murder\" + 0.013*\"crash\" + 0.013*\"kill\" + 0.012*\"woman\" + 0.009*\"shoot\" + 0.009*\"court\" + 0.009*\"arrest\" + 0.008*\"jail\"\n"
     ]
    }
   ],
   "source": [
    "# 7. Performance evaluation by classifying sample document using LDA TF-IDF model.\n",
    "\n",
    "for index, score in sorted(lda_model_tfidf[bow_corpus[4310]], key=lambda tup: -1*tup[1]):\n",
    "    print(\"\\nScore: {}\\t \\nTopic: {}\".format(score, lda_model_tfidf.print_topic(index, 10)))"
   ]
  },
  {
   "cell_type": "code",
   "execution_count": 31,
   "metadata": {},
   "outputs": [
    {
     "name": "stdout",
     "output_type": "stream",
     "text": [
      "Score: 0.4942493438720703\t Topic: 0.019*\"miss\" + 0.018*\"work\" + 0.016*\"speak\" + 0.015*\"countri\" + 0.014*\"victim\"\n",
      "Score: 0.20574401319026947\t Topic: 0.047*\"australian\" + 0.042*\"trump\" + 0.012*\"fight\" + 0.012*\"royal\" + 0.011*\"scott\"\n",
      "Score: 0.1833079755306244\t Topic: 0.024*\"bushfir\" + 0.023*\"school\" + 0.021*\"canberra\" + 0.018*\"brisban\" + 0.017*\"busi\"\n",
      "Score: 0.01667345128953457\t Topic: 0.020*\"women\" + 0.018*\"feder\" + 0.017*\"peopl\" + 0.016*\"health\" + 0.016*\"farmer\"\n",
      "Score: 0.01667131297290325\t Topic: 0.024*\"govern\" + 0.019*\"crash\" + 0.017*\"chang\" + 0.015*\"restrict\" + 0.014*\"hospit\"\n",
      "Score: 0.016671018674969673\t Topic: 0.033*\"sydney\" + 0.031*\"polic\" + 0.029*\"year\" + 0.026*\"news\" + 0.022*\"record\"\n",
      "Score: 0.016670983284711838\t Topic: 0.063*\"coronaviru\" + 0.042*\"australia\" + 0.033*\"queensland\" + 0.031*\"covid\" + 0.026*\"victoria\"\n",
      "Score: 0.016670681536197662\t Topic: 0.036*\"elect\" + 0.026*\"live\" + 0.016*\"island\" + 0.014*\"china\" + 0.012*\"state\"\n",
      "Score: 0.01667061634361744\t Topic: 0.028*\"donald\" + 0.025*\"kill\" + 0.023*\"market\" + 0.022*\"attack\" + 0.019*\"border\"\n",
      "Score: 0.01667061634361744\t Topic: 0.027*\"case\" + 0.027*\"charg\" + 0.026*\"court\" + 0.022*\"murder\" + 0.021*\"polic\"\n"
     ]
    }
   ],
   "source": [
    "# 8. Testing model on unseen document\n",
    "\n",
    "unseen_document = 'How a Pentagon deal became an identity crisis for Google'\n",
    "\n",
    "bow_vector = dictionary.doc2bow(preprocess(unseen_document))\n",
    "\n",
    "for index, score in sorted(lda_model[bow_vector], key=lambda tup: -1*tup[1]):\n",
    "    print(\"Score: {}\\t Topic: {}\".format(score, lda_model.print_topic(index, 5)))"
   ]
  }
 ],
 "metadata": {
  "kernelspec": {
   "display_name": "Python 3",
   "language": "python",
   "name": "python3"
  },
  "language_info": {
   "codemirror_mode": {
    "name": "ipython",
    "version": 3
   },
   "file_extension": ".py",
   "mimetype": "text/x-python",
   "name": "python",
   "nbconvert_exporter": "python",
   "pygments_lexer": "ipython3",
   "version": "3.8.9"
  }
 },
 "nbformat": 4,
 "nbformat_minor": 4
}
